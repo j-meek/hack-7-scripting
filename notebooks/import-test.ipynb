{
 "cells": [
  {
   "cell_type": "code",
   "execution_count": 1,
   "id": "favorite-nicaragua",
   "metadata": {},
   "outputs": [],
   "source": [
    "import sys"
   ]
  },
  {
   "cell_type": "code",
   "execution_count": 2,
   "id": "disturbed-consumption",
   "metadata": {},
   "outputs": [
    {
     "name": "stdout",
     "output_type": "stream",
     "text": [
      "['/Users/jaredmeek/hacks/hack-7-scripting/notebooks', '/Users/jaredmeek/miniconda3/lib/python38.zip', '/Users/jaredmeek/miniconda3/lib/python3.8', '/Users/jaredmeek/miniconda3/lib/python3.8/lib-dynload', '', '/Users/jaredmeek/miniconda3/lib/python3.8/site-packages', '/Users/jaredmeek/miniconda3/lib/python3.8/site-packages/IPython/extensions', '/Users/jaredmeek/.ipython']\n"
     ]
    }
   ],
   "source": [
    "print(sys.path)"
   ]
  },
  {
   "cell_type": "code",
   "execution_count": 3,
   "id": "forced-summer",
   "metadata": {},
   "outputs": [],
   "source": [
    "sys.path.append(\"..\")"
   ]
  },
  {
   "cell_type": "code",
   "execution_count": 4,
   "id": "standard-blackjack",
   "metadata": {},
   "outputs": [
    {
     "name": "stdout",
     "output_type": "stream",
     "text": [
      "['/Users/jaredmeek/hacks/hack-7-scripting/notebooks', '/Users/jaredmeek/miniconda3/lib/python38.zip', '/Users/jaredmeek/miniconda3/lib/python3.8', '/Users/jaredmeek/miniconda3/lib/python3.8/lib-dynload', '', '/Users/jaredmeek/miniconda3/lib/python3.8/site-packages', '/Users/jaredmeek/miniconda3/lib/python3.8/site-packages/IPython/extensions', '/Users/jaredmeek/.ipython', '..']\n"
     ]
    }
   ],
   "source": [
    "print(sys.path)"
   ]
  },
  {
   "cell_type": "code",
   "execution_count": 5,
   "id": "institutional-circulation",
   "metadata": {},
   "outputs": [],
   "source": [
    "import mypackage"
   ]
  },
  {
   "cell_type": "code",
   "execution_count": 6,
   "id": "interested-floor",
   "metadata": {},
   "outputs": [
    {
     "data": {
      "text/plain": [
       "'Better not tell you now.'"
      ]
     },
     "execution_count": 6,
     "metadata": {},
     "output_type": "execute_result"
    }
   ],
   "source": [
    "mypackage.mymodule.magic_eight_ball()"
   ]
  },
  {
   "cell_type": "code",
   "execution_count": 7,
   "id": "ideal-livestock",
   "metadata": {},
   "outputs": [],
   "source": [
    "mypackage?"
   ]
  },
  {
   "cell_type": "markdown",
   "id": "supposed-discretion",
   "metadata": {},
   "source": [
    "### `import mypackage` does not succesfully import modules until adding `__init__.py` file"
   ]
  },
  {
   "cell_type": "code",
   "execution_count": 5,
   "id": "welcome-finder",
   "metadata": {},
   "outputs": [],
   "source": [
    "import mypackage.mymodule"
   ]
  },
  {
   "cell_type": "code",
   "execution_count": 6,
   "id": "outstanding-opinion",
   "metadata": {},
   "outputs": [
    {
     "data": {
      "text/plain": [
       "'Cannot predict now.'"
      ]
     },
     "execution_count": 6,
     "metadata": {},
     "output_type": "execute_result"
    }
   ],
   "source": [
    "mypackage.mymodule.magic_eight_ball()"
   ]
  },
  {
   "cell_type": "code",
   "execution_count": 7,
   "id": "former-marijuana",
   "metadata": {},
   "outputs": [],
   "source": [
    "from mypackage import mymodule"
   ]
  },
  {
   "cell_type": "code",
   "execution_count": 8,
   "id": "industrial-universal",
   "metadata": {},
   "outputs": [
    {
     "data": {
      "text/plain": [
       "'Better not tell you now.'"
      ]
     },
     "execution_count": 8,
     "metadata": {},
     "output_type": "execute_result"
    }
   ],
   "source": [
    "mymodule.magic_eight_ball()"
   ]
  },
  {
   "cell_type": "code",
   "execution_count": 9,
   "id": "assured-cancer",
   "metadata": {},
   "outputs": [],
   "source": [
    "from mypackage.mymodule import magic_eight_ball"
   ]
  },
  {
   "cell_type": "code",
   "execution_count": 10,
   "id": "proved-hygiene",
   "metadata": {},
   "outputs": [
    {
     "data": {
      "text/plain": [
       "'My reply is no'"
      ]
     },
     "execution_count": 10,
     "metadata": {},
     "output_type": "execute_result"
    }
   ],
   "source": [
    "magic_eight_ball()"
   ]
  }
 ],
 "metadata": {
  "kernelspec": {
   "display_name": "Python 3",
   "language": "python",
   "name": "python3"
  },
  "language_info": {
   "codemirror_mode": {
    "name": "ipython",
    "version": 3
   },
   "file_extension": ".py",
   "mimetype": "text/x-python",
   "name": "python",
   "nbconvert_exporter": "python",
   "pygments_lexer": "ipython3",
   "version": "3.8.5"
  },
  "varInspector": {
   "cols": {
    "lenName": 16,
    "lenType": 16,
    "lenVar": 40
   },
   "kernels_config": {
    "python": {
     "delete_cmd_postfix": "",
     "delete_cmd_prefix": "del ",
     "library": "var_list.py",
     "varRefreshCmd": "print(var_dic_list())"
    },
    "r": {
     "delete_cmd_postfix": ") ",
     "delete_cmd_prefix": "rm(",
     "library": "var_list.r",
     "varRefreshCmd": "cat(var_dic_list()) "
    }
   },
   "types_to_exclude": [
    "module",
    "function",
    "builtin_function_or_method",
    "instance",
    "_Feature"
   ],
   "window_display": false
  }
 },
 "nbformat": 4,
 "nbformat_minor": 5
}
